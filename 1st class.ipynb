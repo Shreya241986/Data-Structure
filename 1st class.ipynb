{
 "cells": [
  {
   "cell_type": "markdown",
   "metadata": {},
   "source": [
    "# Searching and Sorting"
   ]
  },
  {
   "cell_type": "markdown",
   "metadata": {},
   "source": [
    "## Sequential Search"
   ]
  },
  {
   "cell_type": "code",
   "execution_count": 1,
   "metadata": {},
   "outputs": [
    {
     "data": {
      "text/plain": [
       "False"
      ]
     },
     "execution_count": 1,
     "metadata": {},
     "output_type": "execute_result"
    }
   ],
   "source": [
    "15 in [3,5,2,4,1]"
   ]
  },
  {
   "cell_type": "code",
   "execution_count": 2,
   "metadata": {},
   "outputs": [
    {
     "data": {
      "text/plain": [
       "True"
      ]
     },
     "execution_count": 2,
     "metadata": {},
     "output_type": "execute_result"
    }
   ],
   "source": [
    "3 in [3,5,2,4,1]"
   ]
  },
  {
   "cell_type": "markdown",
   "metadata": {},
   "source": [
    "54,26,93,17,77,31,44,55,20,65\n"
   ]
  },
  {
   "cell_type": "markdown",
   "metadata": {},
   "source": [
    "Unordered List Analysis\n",
    "Item is present  - 1,      n,           n/2\n",
    "Number is not present n     n            n\n",
    "\n",
    "Ordered List Analysis \n",
    "Item is present    1       n           n/2\n",
    "item is not present 1     n            n/2"
   ]
  },
  {
   "cell_type": "code",
   "execution_count": 3,
   "metadata": {},
   "outputs": [],
   "source": [
    "def seq_search(arr,ele):\n",
    "    pos=0\n",
    "    found = False\n",
    "    \n",
    "    while pos<len(arr) and not found:\n",
    "        if arr[pos] == ele:\n",
    "            found = True\n",
    "            \n",
    "        else:\n",
    "            pos += 1\n",
    "    return found        "
   ]
  },
  {
   "cell_type": "code",
   "execution_count": 7,
   "metadata": {},
   "outputs": [
    {
     "data": {
      "text/plain": [
       "True"
      ]
     },
     "execution_count": 7,
     "metadata": {},
     "output_type": "execute_result"
    }
   ],
   "source": [
    "arr = [1,2,3,4,5]\n",
    "seq_search(arr,5)"
   ]
  },
  {
   "cell_type": "code",
   "execution_count": 8,
   "metadata": {},
   "outputs": [],
   "source": [
    "def ordered_seq_search(arr,ele):\n",
    "    pos=0\n",
    "    found = False\n",
    "    stopped = False\n",
    "    \n",
    "    while pos<len(arr) and not found and not stopped:\n",
    "        if arr[pos] == ele:\n",
    "            found = True\n",
    "        else: \n",
    "            if arr[pos] > ele:\n",
    "                stopped = True\n",
    "            else:\n",
    "                pos += 1\n",
    "                \n",
    "    return found            "
   ]
  },
  {
   "cell_type": "code",
   "execution_count": 11,
   "metadata": {},
   "outputs": [
    {
     "data": {
      "text/plain": [
       "False"
      ]
     },
     "execution_count": 11,
     "metadata": {},
     "output_type": "execute_result"
    }
   ],
   "source": [
    "ordered_seq_search(arr,6)"
   ]
  },
  {
   "cell_type": "markdown",
   "metadata": {},
   "source": [
    "## Binary Serach"
   ]
  },
  {
   "cell_type": "markdown",
   "metadata": {},
   "source": [
    "* Instead of seraching the list in sequence, a binary search will start examing the middle item.\n",
    "* if that item is the one, we are searching for, we are done.\n",
    "* if the item we are searching for is greater than the middle term, we know that the entire lower half of the list as well the middle item can be eliminated from further consideration.\n",
    "* the item, if it is in the list, must be in the upper half.\n",
    "17,20,26,31,44,54,55,65,77,93\n",
    "Uses divide and conquer!\n",
    "We divide the problem into smaller pieces, solve the smaller pieces in some way, and then reassemble the whole problem to get the result.\n",
    "\n",
    "Binary Search Analysis\n",
    "* Each comparision eliminates about the half of the remaining items from consideration.\n",
    "Comparisions                             Approximate number of items left\n",
    "1                                               n/2\n",
    "2                                               n/4\n",
    "i                                               n/pow(2,i)   "
   ]
  },
  {
   "cell_type": "code",
   "execution_count": 16,
   "metadata": {},
   "outputs": [],
   "source": [
    "def binary_search(arr,ele):\n",
    "    first = 0\n",
    "    last = len(arr)-1\n",
    "    found = False\n",
    "    \n",
    "    while first<=last and not found:\n",
    "        mid = int((first + last)/2)\n",
    "        \n",
    "        #if element is found\n",
    "        if arr[mid] == ele:\n",
    "            found = True\n",
    "            \n",
    "        #set up the mid-points up or down depending on comparision\n",
    "        else:\n",
    "            if ele < arr[mid]:\n",
    "                last = mid-1\n",
    "            else:\n",
    "                first = mid+1\n",
    "                \n",
    "    return found            "
   ]
  },
  {
   "cell_type": "code",
   "execution_count": 21,
   "metadata": {},
   "outputs": [
    {
     "data": {
      "text/plain": [
       "False"
      ]
     },
     "execution_count": 21,
     "metadata": {},
     "output_type": "execute_result"
    }
   ],
   "source": [
    "arr = [1,2,3,4,5,6,7,8,9]\n",
    "binary_search(arr,46)"
   ]
  },
  {
   "cell_type": "markdown",
   "metadata": {},
   "source": [
    "## Recursive version of binary search"
   ]
  },
  {
   "cell_type": "code",
   "execution_count": 24,
   "metadata": {},
   "outputs": [],
   "source": [
    "def rec_bin_search(arr,ele):\n",
    "    if len(arr) == 0:\n",
    "        return False\n",
    "    else:\n",
    "        mid = int(len(arr)/2)\n",
    "        if arr[mid] == ele:\n",
    "            return True\n",
    "        else:\n",
    "            if ele < arr[mid]:\n",
    "                return rec_bin_search(arr[:mid],ele)\n",
    "            else:\n",
    "                return rec_bin_search(arr[mid+1:],ele)"
   ]
  },
  {
   "cell_type": "code",
   "execution_count": 25,
   "metadata": {},
   "outputs": [
    {
     "data": {
      "text/plain": [
       "True"
      ]
     },
     "execution_count": 25,
     "metadata": {},
     "output_type": "execute_result"
    }
   ],
   "source": [
    "rec_bin_search(arr,3)"
   ]
  },
  {
   "cell_type": "markdown",
   "metadata": {},
   "source": [
    "## Hashing"
   ]
  },
  {
   "cell_type": "markdown",
   "metadata": {},
   "source": [
    "* Hashing\n",
    "* Hash Tables\n",
    "* Hash Functions\n",
    "* Collision Resolution\n",
    "* Implementing a Hash Table"
   ]
  },
  {
   "cell_type": "markdown",
   "metadata": {},
   "source": [
    "#Hash Tables\n",
    "* Hash tableas is a collection of items which are stored in such a way as to make it easy to find the later.\n",
    "O(1)\n",
    "* Each position of the hash table, slots can hold an item and is named by an integer value.\n",
    "For example : you can have a slot name 0,1,2 and so on.\n",
    "Intially the hash table contains no items so every slot is empty.\n",
    "0    1    2\n",
    "None None None\n",
    "* The mapping between an item and the slot where that items belongs in the hash table is called hash functions.\n",
    "* The hash functions will take any item in the collection and returns an integer in the range of slot names, between 0 and m-1"
   ]
  },
  {
   "cell_type": "markdown",
   "metadata": {},
   "source": [
    "### Remainder method\n",
    "When presented with an item, the hash function is the item divided by the table size, this is then its slot number\n",
    "54,26,96,17,77,31 and hash table of m = 11\n",
    "Our Remainder hash function is h(item) % 11\n",
    "\n",
    "Items                                                Hash Values\n",
    "54                                                      10 (54 % 11)\n",
    "26                                                      4\n",
    "93                                                      5\n",
    "17                                                      6\n",
    "77                                                      0\n",
    "31                                                      9\n",
    "This is referred to as load function lambda = number of items/tABLESIZE\n",
    "lambda = 6/11\n",
    "\n",
    "0   1    2    3    4    5    6    7   8    9   10\n",
    "77  None None None 26   93  17   None None 31  54\n"
   ]
  },
  {
   "cell_type": "markdown",
   "metadata": {},
   "source": [
    "4 % 11 and 7%11  are same --> Collision or clash"
   ]
  },
  {
   "cell_type": "markdown",
   "metadata": {},
   "source": [
    "### Folding Method"
   ]
  },
  {
   "cell_type": "markdown",
   "metadata": {},
   "source": [
    "* Begins by dividing the item into equal-size pieces(the last piece may not be of equal size)\n",
    "* These pieces are the added together to give the resulting hash value.\n",
    "* if our item is phone number - 436-555-4601\n",
    "It will divide it in a group of 2 -> 43,65,55,46,01\n",
    "43+65+55+46+01 = 210\n",
    "* We have assumed that hash table has 11 slots\n",
    "210 % 11 = 1\n",
    "436-555-4601 hashes to slot 1"
   ]
  },
  {
   "cell_type": "markdown",
   "metadata": {},
   "source": [
    "### Mid-Square Method "
   ]
  },
  {
   "cell_type": "code",
   "execution_count": null,
   "metadata": {},
   "outputs": [],
   "source": []
  }
 ],
 "metadata": {
  "kernelspec": {
   "display_name": "Python 3",
   "language": "python",
   "name": "python3"
  },
  "language_info": {
   "codemirror_mode": {
    "name": "ipython",
    "version": 3
   },
   "file_extension": ".py",
   "mimetype": "text/x-python",
   "name": "python",
   "nbconvert_exporter": "python",
   "pygments_lexer": "ipython3",
   "version": "3.7.4"
  }
 },
 "nbformat": 4,
 "nbformat_minor": 2
}
