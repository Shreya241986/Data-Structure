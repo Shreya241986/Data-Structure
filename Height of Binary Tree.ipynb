{
 "cells": [
  {
   "cell_type": "markdown",
   "metadata": {},
   "source": [
    "# Given a binary tree, find its height"
   ]
  },
  {
   "cell_type": "code",
   "execution_count": 1,
   "metadata": {},
   "outputs": [],
   "source": [
    "class Node:\n",
    "    def __init__(self,val=None):\n",
    "        self.right = None\n",
    "        self.left = None\n",
    "        self.val = val  "
   ]
  },
  {
   "cell_type": "code",
   "execution_count": null,
   "metadata": {},
   "outputs": [],
   "source": [
    "def height(tree):\n",
    "    if not tree:\n",
    "        return \"0\"\n",
    "    else:\n",
    "        ht = 0\n",
    "        nodes = collections.deque([tree])\n",
    "        currentCount = 1\n",
    "        nextCount = 0\n",
    "        while len(nodes) != 0:\n",
    "            currentNode = nodes.popleft()\n",
    "            currentCount -= 1\n",
    "            \n",
    "            if currentNode.left:\n",
    "                nodes.append(currentNode.left)\n",
    "                nextCount += 1\n",
    "                \n",
    "            if currentNode.right:\n",
    "                nodes.append(currentNode.right)\n",
    "                nextCount += 1\n",
    "                \n",
    "            if currentCount == 0:\n",
    "                currentCount, nextCount = nextCount, currentCount\n",
    "                ht += 1\n",
    "                \n",
    "        return ht      "
   ]
  }
 ],
 "metadata": {
  "kernelspec": {
   "display_name": "Python 3",
   "language": "python",
   "name": "python3"
  },
  "language_info": {
   "codemirror_mode": {
    "name": "ipython",
    "version": 3
   },
   "file_extension": ".py",
   "mimetype": "text/x-python",
   "name": "python",
   "nbconvert_exporter": "python",
   "pygments_lexer": "ipython3",
   "version": "3.7.4"
  }
 },
 "nbformat": 4,
 "nbformat_minor": 2
}
